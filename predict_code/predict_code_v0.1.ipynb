{
  "nbformat": 4,
  "nbformat_minor": 0,
  "metadata": {
    "colab": {
      "name": "Untitled31.ipynb",
      "provenance": [],
      "collapsed_sections": [],
      "authorship_tag": "ABX9TyO8PW1E1c9twrzgz0WUUQSj",
      "include_colab_link": true
    },
    "kernelspec": {
      "name": "python3",
      "display_name": "Python 3"
    },
    "language_info": {
      "name": "python"
    }
  },
  "cells": [
    {
      "cell_type": "markdown",
      "metadata": {
        "id": "view-in-github",
        "colab_type": "text"
      },
      "source": [
        "<a href=\"https://colab.research.google.com/github/MMIJEONG/stock_prediction/blob/main/Untitled31.ipynb\" target=\"_parent\"><img src=\"https://colab.research.google.com/assets/colab-badge.svg\" alt=\"Open In Colab\"/></a>"
      ]
    },
    {
      "cell_type": "code",
      "metadata": {
        "colab": {
          "base_uri": "https://localhost:8080/",
          "height": 399
        },
        "id": "zbfzgcM30Eb0",
        "outputId": "25372830-4ae5-4add-e50d-d54de897a489"
      },
      "source": [
        "import numpy as np # linear algebra\n",
        "import pandas as pd # data processing, CSV file I/O (e.g. pd.read_csv)\n",
        "import matplotlib.pyplot as plt\n",
        "import seaborn as sns\n",
        "stocks =  pd.read_csv('/content/sample_data/삼성전자.csv', header=0)\n",
        "stocks"
      ],
      "execution_count": 3,
      "outputs": [
        {
          "output_type": "execute_result",
          "data": {
            "text/html": [
              "<div>\n",
              "<style scoped>\n",
              "    .dataframe tbody tr th:only-of-type {\n",
              "        vertical-align: middle;\n",
              "    }\n",
              "\n",
              "    .dataframe tbody tr th {\n",
              "        vertical-align: top;\n",
              "    }\n",
              "\n",
              "    .dataframe thead th {\n",
              "        text-align: right;\n",
              "    }\n",
              "</style>\n",
              "<table border=\"1\" class=\"dataframe\">\n",
              "  <thead>\n",
              "    <tr style=\"text-align: right;\">\n",
              "      <th></th>\n",
              "      <th>날짜</th>\n",
              "      <th>시가</th>\n",
              "      <th>고가</th>\n",
              "      <th>저가</th>\n",
              "      <th>종가</th>\n",
              "      <th>거래량</th>\n",
              "    </tr>\n",
              "  </thead>\n",
              "  <tbody>\n",
              "    <tr>\n",
              "      <th>0</th>\n",
              "      <td>20210428</td>\n",
              "      <td>83200</td>\n",
              "      <td>83200</td>\n",
              "      <td>82100</td>\n",
              "      <td>82100</td>\n",
              "      <td>15255555</td>\n",
              "    </tr>\n",
              "    <tr>\n",
              "      <th>1</th>\n",
              "      <td>20210427</td>\n",
              "      <td>83200</td>\n",
              "      <td>83300</td>\n",
              "      <td>82500</td>\n",
              "      <td>82900</td>\n",
              "      <td>12941533</td>\n",
              "    </tr>\n",
              "    <tr>\n",
              "      <th>2</th>\n",
              "      <td>20210426</td>\n",
              "      <td>82900</td>\n",
              "      <td>83500</td>\n",
              "      <td>82600</td>\n",
              "      <td>83500</td>\n",
              "      <td>15489938</td>\n",
              "    </tr>\n",
              "    <tr>\n",
              "      <th>3</th>\n",
              "      <td>20210423</td>\n",
              "      <td>81900</td>\n",
              "      <td>82900</td>\n",
              "      <td>81600</td>\n",
              "      <td>82800</td>\n",
              "      <td>17805080</td>\n",
              "    </tr>\n",
              "    <tr>\n",
              "      <th>4</th>\n",
              "      <td>20210422</td>\n",
              "      <td>82900</td>\n",
              "      <td>83000</td>\n",
              "      <td>82400</td>\n",
              "      <td>82400</td>\n",
              "      <td>13934746</td>\n",
              "    </tr>\n",
              "    <tr>\n",
              "      <th>...</th>\n",
              "      <td>...</td>\n",
              "      <td>...</td>\n",
              "      <td>...</td>\n",
              "      <td>...</td>\n",
              "      <td>...</td>\n",
              "      <td>...</td>\n",
              "    </tr>\n",
              "    <tr>\n",
              "      <th>6237</th>\n",
              "      <td>19960629</td>\n",
              "      <td>68100</td>\n",
              "      <td>69100</td>\n",
              "      <td>67100</td>\n",
              "      <td>68500</td>\n",
              "      <td>96710</td>\n",
              "    </tr>\n",
              "    <tr>\n",
              "      <th>6238</th>\n",
              "      <td>19960628</td>\n",
              "      <td>67300</td>\n",
              "      <td>68500</td>\n",
              "      <td>67200</td>\n",
              "      <td>68100</td>\n",
              "      <td>138430</td>\n",
              "    </tr>\n",
              "    <tr>\n",
              "      <th>6239</th>\n",
              "      <td>19960627</td>\n",
              "      <td>67500</td>\n",
              "      <td>67700</td>\n",
              "      <td>66700</td>\n",
              "      <td>66900</td>\n",
              "      <td>155450</td>\n",
              "    </tr>\n",
              "    <tr>\n",
              "      <th>6240</th>\n",
              "      <td>19960626</td>\n",
              "      <td>67600</td>\n",
              "      <td>67900</td>\n",
              "      <td>66000</td>\n",
              "      <td>67700</td>\n",
              "      <td>136630</td>\n",
              "    </tr>\n",
              "    <tr>\n",
              "      <th>6241</th>\n",
              "      <td>19960625</td>\n",
              "      <td>66500</td>\n",
              "      <td>68300</td>\n",
              "      <td>65600</td>\n",
              "      <td>67500</td>\n",
              "      <td>112960</td>\n",
              "    </tr>\n",
              "  </tbody>\n",
              "</table>\n",
              "<p>6242 rows × 6 columns</p>\n",
              "</div>"
            ],
            "text/plain": [
              "            날짜     시가     고가     저가     종가       거래량\n",
              "0     20210428  83200  83200  82100  82100  15255555\n",
              "1     20210427  83200  83300  82500  82900  12941533\n",
              "2     20210426  82900  83500  82600  83500  15489938\n",
              "3     20210423  81900  82900  81600  82800  17805080\n",
              "4     20210422  82900  83000  82400  82400  13934746\n",
              "...        ...    ...    ...    ...    ...       ...\n",
              "6237  19960629  68100  69100  67100  68500     96710\n",
              "6238  19960628  67300  68500  67200  68100    138430\n",
              "6239  19960627  67500  67700  66700  66900    155450\n",
              "6240  19960626  67600  67900  66000  67700    136630\n",
              "6241  19960625  66500  68300  65600  67500    112960\n",
              "\n",
              "[6242 rows x 6 columns]"
            ]
          },
          "metadata": {
            "tags": []
          },
          "execution_count": 3
        }
      ]
    },
    {
      "cell_type": "code",
      "metadata": {
        "id": "RIQ6P8K203un"
      },
      "source": [
        "stocks['날짜'] = pd.to_datetime(stocks['날짜'], format='%Y%m%d')\n",
        "# stocks['일자'] = pd.to_datetime(stocks['일자'], format='%Y-%m-%d')\n",
        "stocks['연도'] = stocks['날짜'].dt.year"
      ],
      "execution_count": 6,
      "outputs": []
    },
    {
      "cell_type": "code",
      "metadata": {
        "id": "vv0SkOjq1WoZ"
      },
      "source": [
        "df = stocks.loc[stocks['날짜']>=\"1990\"]"
      ],
      "execution_count": 7,
      "outputs": []
    },
    {
      "cell_type": "code",
      "metadata": {
        "id": "CqtxrC648HM_"
      },
      "source": [
        ""
      ],
      "execution_count": null,
      "outputs": []
    },
    {
      "cell_type": "code",
      "metadata": {
        "colab": {
          "base_uri": "https://localhost:8080/",
          "height": 580
        },
        "id": "0W2SoDb_1aof",
        "outputId": "86134345-56b6-40d0-d11e-63edf7526da3"
      },
      "source": [
        "plt.figure(figsize=(16, 9))\n",
        "sns.lineplot(y=df['거래량'], x=df['날짜'])\n",
        "plt.xlabel('time')\n",
        "plt.ylabel('price')"
      ],
      "execution_count": 8,
      "outputs": [
        {
          "output_type": "execute_result",
          "data": {
            "text/plain": [
              "Text(0, 0.5, 'price')"
            ]
          },
          "metadata": {
            "tags": []
          },
          "execution_count": 8
        },
        {
          "output_type": "display_data",
          "data": {
            "image/png": "[encoded data removed]",
            "text/plain": [
              "<Figure size 1152x648 with 1 Axes>"
            ]
          },
          "metadata": {
            "tags": [],
            "needs_background": "light"
          }
        }
      ]
    },
    {
      "cell_type": "code",
      "metadata": {
        "colab": {
          "base_uri": "https://localhost:8080/",
          "height": 580
        },
        "id": "cmfHX8DH1k_p",
        "outputId": "1bcd522b-3a2a-49c3-d8df-537b2ade6548"
      },
      "source": [
        "plt.figure(figsize=(16, 9))\n",
        "sns.lineplot(y=df['종가'], x=df['날짜'])\n",
        "plt.xlabel('time')\n",
        "plt.ylabel('price')"
      ],
      "execution_count": 9,
      "outputs": [
        {
          "output_type": "execute_result",
          "data": {
            "text/plain": [
              "Text(0, 0.5, 'price')"
            ]
          },
          "metadata": {
            "tags": []
          },
          "execution_count": 9
        },
        {
          "output_type": "display_data",
          "data": {
            "image/png": "[encoded data removed]",
            "text/plain": [
              "<Figure size 1152x648 with 1 Axes>"
            ]
          },
          "metadata": {
            "tags": [],
            "needs_background": "light"
          }
        }
      ]
    },
    {
      "cell_type": "code",
      "metadata": {
        "colab": {
          "base_uri": "https://localhost:8080/",
          "height": 399
        },
        "id": "nwPSMzIs1rPy",
        "outputId": "29008c80-1621-4107-8569-fe95ea9eb7e9"
      },
      "source": [
        "from sklearn.preprocessing import MinMaxScaler\n",
        "\n",
        "df.sort_index(ascending=False).reset_index(drop=True)\n",
        "\n",
        "scaler = MinMaxScaler()\n",
        "scale_cols = ['시가', '고가', '저가', '종가', '거래량']\n",
        "df_scaled = scaler.fit_transform(df[scale_cols])\n",
        "df_scaled = pd.DataFrame(df_scaled)\n",
        "df_scaled.columns = scale_cols\n",
        "\n",
        "df_scaled"
      ],
      "execution_count": 10,
      "outputs": [
        {
          "output_type": "execute_result",
          "data": {
            "text/html": [
              "<div>\n",
              "<style scoped>\n",
              "    .dataframe tbody tr th:only-of-type {\n",
              "        vertical-align: middle;\n",
              "    }\n",
              "\n",
              "    .dataframe tbody tr th {\n",
              "        vertical-align: top;\n",
              "    }\n",
              "\n",
              "    .dataframe thead th {\n",
              "        text-align: right;\n",
              "    }\n",
              "</style>\n",
              "<table border=\"1\" class=\"dataframe\">\n",
              "  <thead>\n",
              "    <tr style=\"text-align: right;\">\n",
              "      <th></th>\n",
              "      <th>시가</th>\n",
              "      <th>고가</th>\n",
              "      <th>저가</th>\n",
              "      <th>종가</th>\n",
              "      <th>거래량</th>\n",
              "    </tr>\n",
              "  </thead>\n",
              "  <tbody>\n",
              "    <tr>\n",
              "      <th>0</th>\n",
              "      <td>0.028939</td>\n",
              "      <td>0.028929</td>\n",
              "      <td>0.028929</td>\n",
              "      <td>0.017258</td>\n",
              "      <td>0.168931</td>\n",
              "    </tr>\n",
              "    <tr>\n",
              "      <th>1</th>\n",
              "      <td>0.028939</td>\n",
              "      <td>0.028964</td>\n",
              "      <td>0.029070</td>\n",
              "      <td>0.017541</td>\n",
              "      <td>0.143307</td>\n",
              "    </tr>\n",
              "    <tr>\n",
              "      <th>2</th>\n",
              "      <td>0.028835</td>\n",
              "      <td>0.029033</td>\n",
              "      <td>0.029105</td>\n",
              "      <td>0.017753</td>\n",
              "      <td>0.171527</td>\n",
              "    </tr>\n",
              "    <tr>\n",
              "      <th>3</th>\n",
              "      <td>0.028487</td>\n",
              "      <td>0.028825</td>\n",
              "      <td>0.028753</td>\n",
              "      <td>0.017505</td>\n",
              "      <td>0.197163</td>\n",
              "    </tr>\n",
              "    <tr>\n",
              "      <th>4</th>\n",
              "      <td>0.028835</td>\n",
              "      <td>0.028860</td>\n",
              "      <td>0.029035</td>\n",
              "      <td>0.017364</td>\n",
              "      <td>0.154306</td>\n",
              "    </tr>\n",
              "    <tr>\n",
              "      <th>...</th>\n",
              "      <td>...</td>\n",
              "      <td>...</td>\n",
              "      <td>...</td>\n",
              "      <td>...</td>\n",
              "      <td>...</td>\n",
              "    </tr>\n",
              "    <tr>\n",
              "      <th>6237</th>\n",
              "      <td>0.023687</td>\n",
              "      <td>0.024026</td>\n",
              "      <td>0.023643</td>\n",
              "      <td>0.012448</td>\n",
              "      <td>0.001071</td>\n",
              "    </tr>\n",
              "    <tr>\n",
              "      <th>6238</th>\n",
              "      <td>0.023409</td>\n",
              "      <td>0.023818</td>\n",
              "      <td>0.023679</td>\n",
              "      <td>0.012307</td>\n",
              "      <td>0.001533</td>\n",
              "    </tr>\n",
              "    <tr>\n",
              "      <th>6239</th>\n",
              "      <td>0.023478</td>\n",
              "      <td>0.023540</td>\n",
              "      <td>0.023502</td>\n",
              "      <td>0.011882</td>\n",
              "      <td>0.001721</td>\n",
              "    </tr>\n",
              "    <tr>\n",
              "      <th>6240</th>\n",
              "      <td>0.023513</td>\n",
              "      <td>0.023609</td>\n",
              "      <td>0.023256</td>\n",
              "      <td>0.012165</td>\n",
              "      <td>0.001513</td>\n",
              "    </tr>\n",
              "    <tr>\n",
              "      <th>6241</th>\n",
              "      <td>0.023130</td>\n",
              "      <td>0.023748</td>\n",
              "      <td>0.023115</td>\n",
              "      <td>0.012095</td>\n",
              "      <td>0.001251</td>\n",
              "    </tr>\n",
              "  </tbody>\n",
              "</table>\n",
              "<p>6242 rows × 5 columns</p>\n",
              "</div>"
            ],
            "text/plain": [
              "            시가        고가        저가        종가       거래량\n",
              "0     0.028939  0.028929  0.028929  0.017258  0.168931\n",
              "1     0.028939  0.028964  0.029070  0.017541  0.143307\n",
              "2     0.028835  0.029033  0.029105  0.017753  0.171527\n",
              "3     0.028487  0.028825  0.028753  0.017505  0.197163\n",
              "4     0.028835  0.028860  0.029035  0.017364  0.154306\n",
              "...        ...       ...       ...       ...       ...\n",
              "6237  0.023687  0.024026  0.023643  0.012448  0.001071\n",
              "6238  0.023409  0.023818  0.023679  0.012307  0.001533\n",
              "6239  0.023478  0.023540  0.023502  0.011882  0.001721\n",
              "6240  0.023513  0.023609  0.023256  0.012165  0.001513\n",
              "6241  0.023130  0.023748  0.023115  0.012095  0.001251\n",
              "\n",
              "[6242 rows x 5 columns]"
            ]
          },
          "metadata": {
            "tags": []
          },
          "execution_count": 10
        }
      ]
    },
    {
      "cell_type": "markdown",
      "metadata": {
        "id": "OTZU4Pby1xuS"
      },
      "source": [
        ""
      ]
    },
    {
      "cell_type": "code",
      "metadata": {
        "id": "FGbIVb7V1yGd"
      },
      "source": [
        "TEST_SIZE = 200\n",
        "WINDOW_SIZE = 20\n",
        "\n",
        "train = df_scaled[:-TEST_SIZE]\n",
        "test = df_scaled[-TEST_SIZE:]\n",
        "\n",
        "def make_dataset(data, label, window_size=20):\n",
        "    feature_list = []\n",
        "    label_list = []\n",
        "    for i in range(len(data) - window_size):\n",
        "        feature_list.append(np.array(data.iloc[i:i+window_size]))\n",
        "        label_list.append(np.array(label.iloc[i+window_size]))\n",
        "    return np.array(feature_list), np.array(label_list)"
      ],
      "execution_count": 11,
      "outputs": []
    },
    {
      "cell_type": "code",
      "metadata": {
        "id": "OYuxOB3H16pd"
      },
      "source": [
        ""
      ],
      "execution_count": null,
      "outputs": []
    },
    {
      "cell_type": "code",
      "metadata": {
        "colab": {
          "base_uri": "https://localhost:8080/"
        },
        "id": "LVtvB9NM139X",
        "outputId": "cd10135d-c119-485c-e446-abcf1a4a7e50"
      },
      "source": [
        "from sklearn.model_selection import train_test_split\n",
        "\n",
        "feature_cols = ['시가', '고가', '저가', '거래량']\n",
        "label_cols = ['종가']\n",
        "\n",
        "train_feature = train[feature_cols]\n",
        "train_label = train[label_cols]\n",
        "\n",
        "train_feature, train_label = make_dataset(train_feature, train_label, 20)\n",
        "\n",
        "x_train, x_valid, y_train, y_valid = train_test_split(train_feature, train_label, test_size=0.2)\n",
        "x_train.shape, x_valid.shape"
      ],
      "execution_count": 12,
      "outputs": [
        {
          "output_type": "execute_result",
          "data": {
            "text/plain": [
              "((4817, 20, 4), (1205, 20, 4))"
            ]
          },
          "metadata": {
            "tags": []
          },
          "execution_count": 12
        }
      ]
    },
    {
      "cell_type": "code",
      "metadata": {
        "colab": {
          "base_uri": "https://localhost:8080/"
        },
        "id": "TeBcFFEU182q",
        "outputId": "a2fdb9e5-0b88-4caa-d3a7-289906d924d6"
      },
      "source": [
        "test_feature = test[feature_cols]\n",
        "test_label = test[label_cols]\n",
        "\n",
        "test_feature.shape, test_label.shape"
      ],
      "execution_count": 13,
      "outputs": [
        {
          "output_type": "execute_result",
          "data": {
            "text/plain": [
              "((200, 4), (200, 1))"
            ]
          },
          "metadata": {
            "tags": []
          },
          "execution_count": 13
        }
      ]
    },
    {
      "cell_type": "code",
      "metadata": {
        "colab": {
          "base_uri": "https://localhost:8080/"
        },
        "id": "SlA7haPt2ARA",
        "outputId": "69f9b527-f8bb-4f3e-b977-cdf7147d8fe4"
      },
      "source": [
        "test_feature, test_label = make_dataset(test_feature, test_label, 20)\n",
        "test_feature.shape, test_label.shape"
      ],
      "execution_count": 14,
      "outputs": [
        {
          "output_type": "execute_result",
          "data": {
            "text/plain": [
              "((180, 20, 4), (180, 1))"
            ]
          },
          "metadata": {
            "tags": []
          },
          "execution_count": 14
        }
      ]
    },
    {
      "cell_type": "code",
      "metadata": {
        "id": "BVmKgBdd2DpZ"
      },
      "source": [
        "from keras.models import Sequential\n",
        "from keras.layers import Dense\n",
        "from keras.callbacks import EarlyStopping, ModelCheckpoint\n",
        "from keras.layers import LSTM\n",
        "\n",
        "model = Sequential()\n",
        "model.add(LSTM(16, \n",
        "               input_shape=(train_feature.shape[1], train_feature.shape[2]), \n",
        "               activation='relu', \n",
        "               return_sequences=False)\n",
        "          )\n",
        "\n",
        "model.add(Dense(1))"
      ],
      "execution_count": 15,
      "outputs": []
    },
    {
      "cell_type": "code",
      "metadata": {
        "colab": {
          "base_uri": "https://localhost:8080/"
        },
        "id": "SC0-6nER2KHl",
        "outputId": "5ab27adf-c1f6-49d0-9a6f-6fb511531c67"
      },
      "source": [
        "import os\n",
        "\n",
        "model.compile(loss='mean_squared_error', optimizer='adam')\n",
        "early_stop = EarlyStopping(monitor='val_loss', patience=5)\n",
        "\n",
        "model_path = 'model'\n",
        "filename = os.path.join(model_path, 'tmp_checkpoint.h5')\n",
        "checkpoint = ModelCheckpoint(filename, monitor='val_loss', verbose=1, save_best_only=True, mode='auto')\n",
        "\n",
        "history = model.fit(x_train, y_train, \n",
        "                                    epochs=200, \n",
        "                                    batch_size=16,\n",
        "                                    validation_data=(x_valid, y_valid), \n",
        "                                    callbacks=[early_stop, checkpoint])"
      ],
      "execution_count": 16,
      "outputs": [
        {
          "output_type": "stream",
          "text": [
            "Epoch 1/200\n",
            "302/302 [==============================] - 4s 9ms/step - loss: 0.0059 - val_loss: 0.0010\n",
            "\n",
            "Epoch 00001: val_loss improved from inf to 0.00100, saving model to model/tmp_checkpoint.h5\n",
            "Epoch 2/200\n",
            "302/302 [==============================] - 2s 7ms/step - loss: 9.9527e-04 - val_loss: 9.3734e-04\n",
            "\n",
            "Epoch 00002: val_loss improved from 0.00100 to 0.00094, saving model to model/tmp_checkpoint.h5\n",
            "Epoch 3/200\n",
            "302/302 [==============================] - 2s 7ms/step - loss: 9.9083e-04 - val_loss: 8.8616e-04\n",
            "\n",
            "Epoch 00003: val_loss improved from 0.00094 to 0.00089, saving model to model/tmp_checkpoint.h5\n",
            "Epoch 4/200\n",
            "302/302 [==============================] - 2s 7ms/step - loss: 7.1967e-04 - val_loss: 8.3569e-04\n",
            "\n",
            "Epoch 00004: val_loss improved from 0.00089 to 0.00084, saving model to model/tmp_checkpoint.h5\n",
            "Epoch 5/200\n",
            "302/302 [==============================] - 2s 8ms/step - loss: 2.2847e-04 - val_loss: 8.4021e-04\n",
            "\n",
            "Epoch 00005: val_loss did not improve from 0.00084\n",
            "Epoch 6/200\n",
            "302/302 [==============================] - 2s 7ms/step - loss: 3.8582e-04 - val_loss: 7.5814e-04\n",
            "\n",
            "Epoch 00006: val_loss improved from 0.00084 to 0.00076, saving model to model/tmp_checkpoint.h5\n",
            "Epoch 7/200\n",
            "302/302 [==============================] - 2s 7ms/step - loss: 7.5007e-04 - val_loss: 7.3029e-04\n",
            "\n",
            "Epoch 00007: val_loss improved from 0.00076 to 0.00073, saving model to model/tmp_checkpoint.h5\n",
            "Epoch 8/200\n",
            "302/302 [==============================] - 2s 7ms/step - loss: 4.4872e-04 - val_loss: 7.0288e-04\n",
            "\n",
            "Epoch 00008: val_loss improved from 0.00073 to 0.00070, saving model to model/tmp_checkpoint.h5\n",
            "Epoch 9/200\n",
            "302/302 [==============================] - 2s 7ms/step - loss: 7.9264e-04 - val_loss: 6.7512e-04\n",
            "\n",
            "Epoch 00009: val_loss improved from 0.00070 to 0.00068, saving model to model/tmp_checkpoint.h5\n",
            "Epoch 10/200\n",
            "302/302 [==============================] - 2s 7ms/step - loss: 7.1557e-04 - val_loss: 6.5484e-04\n",
            "\n",
            "Epoch 00010: val_loss improved from 0.00068 to 0.00065, saving model to model/tmp_checkpoint.h5\n",
            "Epoch 11/200\n",
            "302/302 [==============================] - 2s 8ms/step - loss: 6.5495e-04 - val_loss: 6.2958e-04\n",
            "\n",
            "Epoch 00011: val_loss improved from 0.00065 to 0.00063, saving model to model/tmp_checkpoint.h5\n",
            "Epoch 12/200\n",
            "302/302 [==============================] - 2s 8ms/step - loss: 6.5578e-04 - val_loss: 6.1072e-04\n",
            "\n",
            "Epoch 00012: val_loss improved from 0.00063 to 0.00061, saving model to model/tmp_checkpoint.h5\n",
            "Epoch 13/200\n",
            "302/302 [==============================] - 2s 8ms/step - loss: 2.1988e-04 - val_loss: 6.0054e-04\n",
            "\n",
            "Epoch 00013: val_loss improved from 0.00061 to 0.00060, saving model to model/tmp_checkpoint.h5\n",
            "Epoch 14/200\n",
            "302/302 [==============================] - 2s 8ms/step - loss: 5.4983e-04 - val_loss: 5.9840e-04\n",
            "\n",
            "Epoch 00014: val_loss improved from 0.00060 to 0.00060, saving model to model/tmp_checkpoint.h5\n",
            "Epoch 15/200\n",
            "302/302 [==============================] - 2s 8ms/step - loss: 5.0795e-04 - val_loss: 5.8425e-04\n",
            "\n",
            "Epoch 00015: val_loss improved from 0.00060 to 0.00058, saving model to model/tmp_checkpoint.h5\n",
            "Epoch 16/200\n",
            "302/302 [==============================] - 2s 7ms/step - loss: 2.0769e-04 - val_loss: 6.1345e-04\n",
            "\n",
            "Epoch 00016: val_loss did not improve from 0.00058\n",
            "Epoch 17/200\n",
            "302/302 [==============================] - 2s 8ms/step - loss: 2.9006e-04 - val_loss: 5.3124e-04\n",
            "\n",
            "Epoch 00017: val_loss improved from 0.00058 to 0.00053, saving model to model/tmp_checkpoint.h5\n",
            "Epoch 18/200\n",
            "302/302 [==============================] - 2s 8ms/step - loss: 9.0367e-04 - val_loss: 5.1792e-04\n",
            "\n",
            "Epoch 00018: val_loss improved from 0.00053 to 0.00052, saving model to model/tmp_checkpoint.h5\n",
            "Epoch 19/200\n",
            "302/302 [==============================] - 2s 8ms/step - loss: 2.4392e-04 - val_loss: 5.1003e-04\n",
            "\n",
            "Epoch 00019: val_loss improved from 0.00052 to 0.00051, saving model to model/tmp_checkpoint.h5\n",
            "Epoch 20/200\n",
            "302/302 [==============================] - 2s 8ms/step - loss: 2.3566e-04 - val_loss: 5.0794e-04\n",
            "\n",
            "Epoch 00020: val_loss improved from 0.00051 to 0.00051, saving model to model/tmp_checkpoint.h5\n",
            "Epoch 21/200\n",
            "302/302 [==============================] - 2s 8ms/step - loss: 2.3888e-04 - val_loss: 4.6381e-04\n",
            "\n",
            "Epoch 00021: val_loss improved from 0.00051 to 0.00046, saving model to model/tmp_checkpoint.h5\n",
            "Epoch 22/200\n",
            "302/302 [==============================] - 2s 8ms/step - loss: 4.7530e-04 - val_loss: 4.4265e-04\n",
            "\n",
            "Epoch 00022: val_loss improved from 0.00046 to 0.00044, saving model to model/tmp_checkpoint.h5\n",
            "Epoch 23/200\n",
            "302/302 [==============================] - 2s 8ms/step - loss: 5.7244e-04 - val_loss: 4.3739e-04\n",
            "\n",
            "Epoch 00023: val_loss improved from 0.00044 to 0.00044, saving model to model/tmp_checkpoint.h5\n",
            "Epoch 24/200\n",
            "302/302 [==============================] - 2s 8ms/step - loss: 3.4232e-04 - val_loss: 4.3932e-04\n",
            "\n",
            "Epoch 00024: val_loss did not improve from 0.00044\n",
            "Epoch 25/200\n",
            "302/302 [==============================] - 2s 7ms/step - loss: 5.2831e-04 - val_loss: 4.0194e-04\n",
            "\n",
            "Epoch 00025: val_loss improved from 0.00044 to 0.00040, saving model to model/tmp_checkpoint.h5\n",
            "Epoch 26/200\n",
            "302/302 [==============================] - 2s 8ms/step - loss: 4.8241e-04 - val_loss: 3.8796e-04\n",
            "\n",
            "Epoch 00026: val_loss improved from 0.00040 to 0.00039, saving model to model/tmp_checkpoint.h5\n",
            "Epoch 27/200\n",
            "302/302 [==============================] - 2s 8ms/step - loss: 3.1817e-04 - val_loss: 3.6964e-04\n",
            "\n",
            "Epoch 00027: val_loss improved from 0.00039 to 0.00037, saving model to model/tmp_checkpoint.h5\n",
            "Epoch 28/200\n",
            "302/302 [==============================] - 2s 8ms/step - loss: 5.3275e-04 - val_loss: 3.1682e-04\n",
            "\n",
            "Epoch 00028: val_loss improved from 0.00037 to 0.00032, saving model to model/tmp_checkpoint.h5\n",
            "Epoch 29/200\n",
            "302/302 [==============================] - 2s 8ms/step - loss: 4.8095e-04 - val_loss: 2.9741e-04\n",
            "\n",
            "Epoch 00029: val_loss improved from 0.00032 to 0.00030, saving model to model/tmp_checkpoint.h5\n",
            "Epoch 30/200\n",
            "302/302 [==============================] - 2s 8ms/step - loss: 2.0091e-04 - val_loss: 3.1670e-04\n",
            "\n",
            "Epoch 00030: val_loss did not improve from 0.00030\n",
            "Epoch 31/200\n",
            "302/302 [==============================] - 2s 7ms/step - loss: 5.0776e-04 - val_loss: 3.2504e-04\n",
            "\n",
            "Epoch 00031: val_loss did not improve from 0.00030\n",
            "Epoch 32/200\n",
            "302/302 [==============================] - 2s 7ms/step - loss: 3.1004e-04 - val_loss: 2.0453e-04\n",
            "\n",
            "Epoch 00032: val_loss improved from 0.00030 to 0.00020, saving model to model/tmp_checkpoint.h5\n",
            "Epoch 33/200\n",
            "302/302 [==============================] - 2s 7ms/step - loss: 6.2663e-04 - val_loss: 1.7585e-04\n",
            "\n",
            "Epoch 00033: val_loss improved from 0.00020 to 0.00018, saving model to model/tmp_checkpoint.h5\n",
            "Epoch 34/200\n",
            "302/302 [==============================] - 2s 7ms/step - loss: 1.8279e-04 - val_loss: 1.3936e-04\n",
            "\n",
            "Epoch 00034: val_loss improved from 0.00018 to 0.00014, saving model to model/tmp_checkpoint.h5\n",
            "Epoch 35/200\n",
            "302/302 [==============================] - 2s 7ms/step - loss: 3.8499e-04 - val_loss: 2.2245e-04\n",
            "\n",
            "Epoch 00035: val_loss did not improve from 0.00014\n",
            "Epoch 36/200\n",
            "302/302 [==============================] - 2s 7ms/step - loss: 1.1309e-04 - val_loss: 1.4614e-04\n",
            "\n",
            "Epoch 00036: val_loss did not improve from 0.00014\n",
            "Epoch 37/200\n",
            "302/302 [==============================] - 2s 7ms/step - loss: 2.2709e-04 - val_loss: 1.2185e-04\n",
            "\n",
            "Epoch 00037: val_loss improved from 0.00014 to 0.00012, saving model to model/tmp_checkpoint.h5\n",
            "Epoch 38/200\n",
            "302/302 [==============================] - 2s 7ms/step - loss: 1.5245e-04 - val_loss: 1.8864e-04\n",
            "\n",
            "Epoch 00038: val_loss did not improve from 0.00012\n",
            "Epoch 39/200\n",
            "302/302 [==============================] - 2s 7ms/step - loss: 2.1075e-04 - val_loss: 1.2558e-04\n",
            "\n",
            "Epoch 00039: val_loss did not improve from 0.00012\n",
            "Epoch 40/200\n",
            "302/302 [==============================] - 2s 7ms/step - loss: 2.4254e-04 - val_loss: 9.9100e-05\n",
            "\n",
            "Epoch 00040: val_loss improved from 0.00012 to 0.00010, saving model to model/tmp_checkpoint.h5\n",
            "Epoch 41/200\n",
            "302/302 [==============================] - 2s 7ms/step - loss: 2.3948e-04 - val_loss: 9.9960e-05\n",
            "\n",
            "Epoch 00041: val_loss did not improve from 0.00010\n",
            "Epoch 42/200\n",
            "302/302 [==============================] - 2s 7ms/step - loss: 1.6046e-04 - val_loss: 5.2798e-05\n",
            "\n",
            "Epoch 00042: val_loss improved from 0.00010 to 0.00005, saving model to model/tmp_checkpoint.h5\n",
            "Epoch 43/200\n",
            "302/302 [==============================] - 2s 7ms/step - loss: 1.2749e-04 - val_loss: 1.1976e-04\n",
            "\n",
            "Epoch 00043: val_loss did not improve from 0.00005\n",
            "Epoch 44/200\n",
            "302/302 [==============================] - 2s 7ms/step - loss: 4.0966e-04 - val_loss: 5.7111e-05\n",
            "\n",
            "Epoch 00044: val_loss did not improve from 0.00005\n",
            "Epoch 45/200\n",
            "302/302 [==============================] - 2s 7ms/step - loss: 2.4468e-04 - val_loss: 1.2164e-04\n",
            "\n",
            "Epoch 00045: val_loss did not improve from 0.00005\n",
            "Epoch 46/200\n",
            "302/302 [==============================] - 2s 7ms/step - loss: 3.3950e-04 - val_loss: 1.4896e-04\n",
            "\n",
            "Epoch 00046: val_loss did not improve from 0.00005\n",
            "Epoch 47/200\n",
            "302/302 [==============================] - 2s 7ms/step - loss: 2.9216e-04 - val_loss: 6.2567e-05\n",
            "\n",
            "Epoch 00047: val_loss did not improve from 0.00005\n"
          ],
          "name": "stdout"
        }
      ]
    },
    {
      "cell_type": "code",
      "metadata": {
        "colab": {
          "base_uri": "https://localhost:8080/"
        },
        "id": "uGOFsEDw3RwG",
        "outputId": "1d2ef72e-9ebd-4d76-fd27-8a2905abfafb"
      },
      "source": [
        "model.load_weights(filename)\n",
        "pred = model.predict(test_feature)\n",
        "\n",
        "pred.shape"
      ],
      "execution_count": 17,
      "outputs": [
        {
          "output_type": "execute_result",
          "data": {
            "text/plain": [
              "(180, 1)"
            ]
          },
          "metadata": {
            "tags": []
          },
          "execution_count": 17
        }
      ]
    },
    {
      "cell_type": "code",
      "metadata": {
        "colab": {
          "base_uri": "https://localhost:8080/",
          "height": 538
        },
        "id": "BpsMAF603U_W",
        "outputId": "ca1e63d7-cbf1-4705-848b-32ac1017e4d6"
      },
      "source": [
        "plt.figure(figsize=(12, 9))\n",
        "plt.plot(test_label, label = 'actual')\n",
        "plt.plot(pred, label = 'prediction')\n",
        "plt.legend()\n",
        "plt.show()"
      ],
      "execution_count": 18,
      "outputs": [
        {
          "output_type": "display_data",
          "data": {
            "image/png": "[encoded data removed]",
            "text/plain": [
              "<Figure size 864x648 with 1 Axes>"
            ]
          },
          "metadata": {
            "tags": [],
            "needs_background": "light"
          }
        }
      ]
    }
  ]
}
